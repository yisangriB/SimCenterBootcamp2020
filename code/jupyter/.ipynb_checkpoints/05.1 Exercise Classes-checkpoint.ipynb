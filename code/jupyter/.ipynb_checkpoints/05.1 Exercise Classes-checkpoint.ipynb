{
 "cells": [
  {
   "cell_type": "markdown",
   "metadata": {},
   "source": [
    "# Exercise 5: Classes"
   ]
  },
  {
   "cell_type": "markdown",
   "metadata": {},
   "source": [
    "## Problem 1:  The Bank Class\n",
    "\n",
    "Design a class representing a Bank with the following features:\n",
    "1. the constructor takes a bank's name as argument and remembers it.\n",
    "2. Can hold cash (store the balance)\n",
    "3. depositCash(x): takes \\$x and adds it to balance\n",
    "4. withdrawCash(x): if the bank has enough balance, hand out \\$x and reduce the balance; otherwise return 0\n",
    "5. when printed, write the bank's name and current balance"
   ]
  },
  {
   "cell_type": "code",
   "execution_count": 20,
   "metadata": {},
   "outputs": [],
   "source": [
    "# YOUR CLASS HERE\n",
    "class Bank(object):\n",
    "    \n",
    "    def __init__(self, name=\"unknown\", balance=0):\n",
    "        self.name=name\n",
    "        self.balance=balance\n",
    "        #pass\n",
    "    \n",
    "    def __str__(self):\n",
    "        return \"{} has the current balance of ${}.\".format(self.name,self.balance)\n",
    "    \n",
    "    def __repr__(self):\n",
    "        return \"Bank(\\\"{}\\\",balance={})\".format(self.name,self.balance)\n",
    "        \n",
    "    \n",
    "    def depositCash(self,X):\n",
    "        self.balance = self.balance + X\n",
    "        return self.balance\n",
    "    \n",
    "    def withdrawCash(self,Y):\n",
    "        if self.balance >= Y:\n",
    "            self.balance = self.balance - Y\n",
    "            amount = Y\n",
    "        else:\n",
    "            amount = 0\n",
    "        return amount"
   ]
  },
  {
   "cell_type": "code",
   "execution_count": 27,
   "metadata": {},
   "outputs": [
    {
     "name": "stdout",
     "output_type": "stream",
     "text": [
      "customer got $200000\n",
      "Big Corporate Bank has the current balance of $900000.\n",
      "Credit Union has the current balance of $150000.\n",
      "customer got $200000\n",
      "Big Corporate Bank has the current balance of $800000.\n",
      "Credit Union has the current balance of $50000.\n",
      "customer got $100000\n",
      "Big Corporate Bank has the current balance of $700000.\n",
      "Credit Union has the current balance of $50000.\n"
     ]
    }
   ],
   "source": [
    "# tests\n",
    "bank1 = Bank('Big Corporate Bank')\n",
    "bank2 = Bank('Credit Union')\n",
    "\n",
    "# initial balance\n",
    "bank1.depositCash(1000000)\n",
    "bank2.depositCash(250000)\n",
    "\n",
    "# some transactions\n",
    "a = bank1.withdrawCash(100000)\n",
    "a += bank2.withdrawCash(100000)\n",
    "print(\"customer got ${}\".format(a))\n",
    "print(bank1)\n",
    "print(bank2)\n",
    "\n",
    "b = bank1.withdrawCash(100000)\n",
    "b += bank2.withdrawCash(100000)\n",
    "print(\"customer got ${}\".format(b))\n",
    "print(bank1)\n",
    "print(bank2)\n",
    "\n",
    "c = bank1.withdrawCash(100000)\n",
    "c += bank2.withdrawCash(100000)\n",
    "print(\"customer got ${}\".format(c))\n",
    "print(bank1)\n",
    "print(bank2)\n",
    "\n"
   ]
  },
  {
   "cell_type": "markdown",
   "metadata": {},
   "source": [
    "__repr__ is used for debuging"
   ]
  },
  {
   "cell_type": "code",
   "execution_count": 23,
   "metadata": {},
   "outputs": [
    {
     "data": {
      "text/plain": [
       "'Bank(\"Big Corporate Bank\",balance=700000)'"
      ]
     },
     "execution_count": 23,
     "metadata": {},
     "output_type": "execute_result"
    }
   ],
   "source": [
    "repr(bank1)"
   ]
  },
  {
   "cell_type": "code",
   "execution_count": 25,
   "metadata": {},
   "outputs": [],
   "source": [
    "bank3 = Bank(\"Big Corporate Bank\",balance=700000)"
   ]
  },
  {
   "cell_type": "code",
   "execution_count": 26,
   "metadata": {},
   "outputs": [
    {
     "name": "stdout",
     "output_type": "stream",
     "text": [
      "Big Corporate Bank has the current balance of $700000.\n"
     ]
    }
   ],
   "source": [
    "print(bank3)"
   ]
  },
  {
   "cell_type": "markdown",
   "metadata": {},
   "source": [
    "## Problem 2: A Logic class\n",
    "\n",
    "This example introduces an numeric data type (class) Logic, which shall serve as an alternative to boolean numbers and operations. \n",
    "1. Logic() shall hald a value of 0 (False) or 1 (True)\n",
    "   * Logic(True) shall set the value to 1\n",
    "   * Logic(False) shall set the value to 0\n",
    "2. A * B shall return a Logic() with the value of \"A and B\" (the logic \"and\")\n",
    "3. A + B shall return a Logic() with the value of \"A or B\" (the logic \"or\")\n",
    "4. A.not() shall return a Logic() with the value of \"not A\" (the logic \"not\")\n",
    "5. str(A) shall return strings 'T' if true and '' if false (empty string)\n"
   ]
  },
  {
   "cell_type": "code",
   "execution_count": 22,
   "metadata": {},
   "outputs": [],
   "source": [
    "class Logic(object):\n",
    "    \n",
    "    def __init__(self,state=True):\n",
    "        if state:\n",
    "            self.state = 1\n",
    "        else:\n",
    "            self.state = 0\n",
    "        \n",
    "    # your constructor, __str__\n",
    "    def __str__(self):\n",
    "        if self.state:\n",
    "            return 'T'\n",
    "        else:\n",
    "            return ''\n",
    "        \n",
    "    # the next method is a converter from Logic() to boolean\n",
    "    def __bool__(self):\n",
    "        if self.state:\n",
    "            return True\n",
    "        else:\n",
    "            return False\n",
    "        \n",
    "    def __mul__(self,B):\n",
    "        return Logic(self.state and B.state)\n",
    "    \n",
    "    def __add__(self,B):\n",
    "        return Logic(self.state or B.state)\n",
    "    \n",
    "    def N(self):\n",
    "        return Logic(not self.state)\n",
    "        \n",
    "    # the rest of your code"
   ]
  },
  {
   "cell_type": "code",
   "execution_count": 20,
   "metadata": {},
   "outputs": [
    {
     "name": "stdout",
     "output_type": "stream",
     "text": [
      "T\n"
     ]
    }
   ],
   "source": [
    "A = Logic(True)\n",
    "B = Logic(True)\n",
    "C = Logic(False)\n",
    "D = Logic(False)\n",
    "print(A)"
   ]
  },
  {
   "cell_type": "code",
   "execution_count": 23,
   "metadata": {},
   "outputs": [
    {
     "name": "stdout",
     "output_type": "stream",
     "text": [
      "'T' and 'T'='T'\n",
      "'T' or 'T'='T'\n",
      "'T' and ''=''\n",
      "'T' or ''='T'\n",
      "'T' and not ''='T'\n",
      "not '' or ''='T'\n"
     ]
    }
   ],
   "source": [
    "# testing your class\n",
    "A = Logic(True)\n",
    "B = Logic(True)\n",
    "C = Logic(False)\n",
    "D = Logic(False)\n",
    "\n",
    "if A*B:\n",
    "    print(\"'{}' and '{}'='{}'\".format(A,B,A*B))\n",
    "else:\n",
    "    raise\n",
    "\n",
    "if A+B:\n",
    "    print(\"'{}' or '{}'='{}'\".format(A,B,A+B))\n",
    "else:\n",
    "    raise\n",
    "\n",
    "if not (A*C):\n",
    "    print(\"'{}' and '{}'='{}'\".format(A,C,A*C))\n",
    "else:\n",
    "    raise\n",
    "\n",
    "if A+C:\n",
    "    print(\"'{}' or '{}'='{}'\".format(A,C,A+C))\n",
    "else:\n",
    "    raise\n",
    "\n",
    "if  A*(C.N()):\n",
    "    print(\"'{}' and not '{}'='{}'\".format(A,C,A*(C.N())))\n",
    "else:\n",
    "    raise\n",
    "\n",
    "if (D.N())+C:\n",
    "    print(\"not '{}' or '{}'='{}'\".format(D,C,(D.N())+C))\n",
    "else:\n",
    "    raise\n",
    "    "
   ]
  },
  {
   "cell_type": "markdown",
   "metadata": {},
   "source": [
    "## Problem 3: Inheritance\n",
    "\n",
    "This example shall illustrate inheritance using a set of companies as follows.\n",
    "1. the MomAndPopStore()\n",
    "   * holds cash as a float\n",
    "   * keeps list of inventory as dictionary with items as keys and number of available items as value\n",
    "   * keeps price list as dictionary with items as keys and price of available items as value\n",
    "   * issueInvoice for \\$X\n",
    "   * checkPrice for item\n",
    "      * returns the price item (that is the key)\n",
    "   * makePayment for \\$X:\n",
    "      * if enough cash available, subtract \\$X from cash and return X; return 0 otherwise\n",
    "   * takePayment for \\$X:\n",
    "      * add $X to cash\n",
    "   * takeOrder for one item from inventory: \n",
    "      * return True if available; False otherwise\n",
    "      * reduce inventory by one if available\n",
    "   * placeOrder for one item from vendor\n",
    "      \n",
    "   \n",
    "2. the WareHouse()\n",
    "   * holds cash as a float\n",
    "   * keeps list of inventory as dictionary with items as keys and number of available items as value\n",
    "   * keeps price list as dictionary with items as keys and price of available items as value\n",
    "   * issueInvoice for \\$X\n",
    "   * checkPrice for item\n",
    "      * returns the price item (that is the key)\n",
    "   * makePayment for \\$X:\n",
    "      * if enough cash available, subtract \\$X from cash and return X; return 0 otherwise\n",
    "   * takePayment for \\$X:\n",
    "      * add $X to cash\n",
    "   * takeOrder for N item from inventory: \n",
    "      * return True if N items are available; False otherwise\n",
    "      * reduce inventory by N if available\n",
    "      \n",
    "      \n",
    "3. the Customer()\n",
    "   * holds cash as a float\n",
    "   * getInvoice from vendor\n",
    "   * checkPrice for item\n",
    "      * returns the price item (that is the key)\n",
    "   * makePayment for \\$X:\n",
    "      * if enough cash available, subtract \\$X from cash and return X; return 0 otherwise\n",
    "   * takePayment for \\$X:\n",
    "      * add $X to cash\n",
    "   * placeOrder for one item from vendor\n",
    "\n",
    "<hr>\n",
    "\n",
    "**Your tasks**:\n",
    "1. Design a base class Common that implements everything that those players have in common\n",
    "2. Design the three classes using inheritance of the Common class and define ONLY THE NECESSARY methods\n",
    "3. Design of a function main() that creates \n",
    "   * 3 Customers: customerA, customerB, and customerC\n",
    "   * 2 MomAndPopStores: cornerStore and villageGrocery\n",
    "   * 2 WareHouses: veggieSupplier and countyButcher\n",
    "   * let each customer check for one item and, if s/he has enough \\$\\$, purchase one.  do the full transaction (main is the cashier taking cash from the customer and putting it in the bank.\n",
    "   * let each store buy 40 apples and 2 chickes from the respective WareHouse.  Also make sure money changes hands and inventory gets properly updated.\n",
    "4. Develop a way of testing against expectations such that you can convince first yourself, then me, that your code works properly.\n",
    "\n",
    "**THIS ONE SHOULD BE DONE BY TEAMS SINCE IT MAY BE TOO HARD FOR AN INDIVIDUAL**\n",
    "\n"
   ]
  },
  {
   "cell_type": "code",
   "execution_count": 176,
   "metadata": {},
   "outputs": [],
   "source": [
    "class Common(object):\n",
    "    \n",
    "    def __init__(self,name=\"\",cash=0,price={\"\":0},inventory={\"\":0}):\n",
    "        self.name = name\n",
    "        self.cash = cash\n",
    "        self.price = price\n",
    "        self.inventory = inventory\n",
    "        \n",
    "    def __str__(self):\n",
    "        return self.name\n",
    "        \n",
    "    def checkPrice(self,item):\n",
    "        if item in self.price:\n",
    "            return self.price[item]\n",
    "        else:\n",
    "            return -1 # we don't carry that item\n",
    "    \n",
    "    def makePayment(self,X):\n",
    "        if self.cash>X:\n",
    "            self.cash -= X\n",
    "            return self.cash\n",
    "        else:\n",
    "            return 0   \n",
    "        \n",
    "    def takePayment(self,X):\n",
    "        if X>0:\n",
    "            self.cash +=X    "
   ]
  },
  {
   "cell_type": "code",
   "execution_count": 177,
   "metadata": {},
   "outputs": [],
   "source": [
    "class MomAndPopStore(Common):\n",
    "        \n",
    "    def issueInvoice(self,X):\n",
    "        pass\n",
    "        \n",
    "    def takeOrder(self, item):\n",
    "        if item in self.price:\n",
    "            if self.inventory[item]>0:\n",
    "                self.inventory[item] -= 1\n",
    "                return self.price[item]\n",
    "            else:\n",
    "                return 0\n",
    "        else:\n",
    "            return -1 \n",
    "        \n",
    "    def placeOrder(self,item):\n",
    "        pass\n",
    "    "
   ]
  },
  {
   "cell_type": "code",
   "execution_count": 178,
   "metadata": {},
   "outputs": [],
   "source": [
    "class WareHouse(MomAndPopStore):\n",
    "    \n",
    "    def takeOrder(self, N, item):\n",
    "        if item in self.price:\n",
    "            if self.inventory[item]>N-1:\n",
    "                self.inventory[item] -= N\n",
    "                return self.price[item]\n",
    "            else:\n",
    "                return 0\n",
    "        else:\n",
    "            return -1 "
   ]
  },
  {
   "cell_type": "code",
   "execution_count": 179,
   "metadata": {},
   "outputs": [],
   "source": [
    "class Customer(Common):\n",
    "    \n",
    "    def getInvoice(self):\n",
    "        pass\n",
    "    \n",
    "    def placeOrder(self,item):\n",
    "        if self.cash>self.price[item]:\n",
    "            return self.price[item]\n",
    "        else:\n",
    "            return False\n",
    "    \n",
    "common = Common()\n",
    "#customerA = Customer()"
   ]
  },
  {
   "cell_type": "code",
   "execution_count": 222,
   "metadata": {},
   "outputs": [],
   "source": [
    "\n",
    "inventory = {\"apple\":1, \"chicken\": 50}\n",
    "price     = {\"apple\":2.4, \"chicken\": 10.5}\n",
    "customerA = Customer(\"customerA\",10,price)\n",
    "\n",
    "customerB = Customer(\"customerB\",1000,price)\n",
    "customerC = Customer(\"customerC\",1000,price)\n",
    "\n",
    "cornerStore = MomAndPopStore(\"cornerStore\",10000,price,inventory)\n",
    "villageGrocery = MomAndPopStore(\"villageGrocery\",10000,price,inventory)\n",
    "\n",
    "\n",
    "veggieSupplier = WareHouse(\"veggieSupplier\",100000,price,inventory)\n",
    "countyButcher = WareHouse(\"countyButcher\",100000,price,inventory)\n"
   ]
  },
  {
   "cell_type": "code",
   "execution_count": 223,
   "metadata": {},
   "outputs": [
    {
     "name": "stdout",
     "output_type": "stream",
     "text": [
      "customerA have $10 and wants to buy a apple.\n",
      "customerA: I want to buy an apple.\n",
      "(customerA has enough money.)\n",
      "Casher: The price is $2.4.\n",
      "customerA: I now have $7.6.\n",
      "Casher: We now have $10002.4.\n",
      "Casher: We have 0 apples left.\n"
     ]
    }
   ],
   "source": [
    "\n",
    "item = \"apple\"\n",
    "print(\"customerA have ${} and wants to buy a {}.\".format(customerA.cash,\"apple\"))\n",
    "print(\"customerA: I want to buy an {}.\".format(item))\n",
    "stat=customerA.placeOrder(item)\n",
    "if stat:\n",
    "    print(\"(customerA has enough money.)\")\n",
    "    myprice=villageGrocery.takeOrder(item)\n",
    "    if myprice > 0:\n",
    "        print(\"Casher: The price is ${}.\".format(myprice))\n",
    "        customerA.makePayment(myprice)\n",
    "        villageGrocery.takePayment(myprice)\n",
    "        print(\"customerA: I now have ${}.\".format(customerA.cash))    \n",
    "        print(\"Casher: We now have ${}.\".format(villageGrocery.cash))    \n",
    "        print(\"Casher: We have {} {}s left.\".format(villageGrocery.inventory[item],item))    \n",
    "\n",
    "    elif myprice == 0:\n",
    "        print(\"Casher: {} is out of stock.\".format(item))\n",
    "              \n",
    "    elif myprice == -1:\n",
    "        print(\"Casher: we don't stock {}.\".format(item))      \n",
    "\n",
    "else:\n",
    "    print(\"But {} do not have enough money..\".format(customerA.name))\n",
    "    "
   ]
  },
  {
   "cell_type": "code",
   "execution_count": 210,
   "metadata": {},
   "outputs": [
    {
     "name": "stdout",
     "output_type": "stream",
     "text": [
      "5.199999999999999\n",
      "{'apple': 2.4, 'chicken': 10.5}\n"
     ]
    }
   ],
   "source": [
    "print(customerA.cash)\n",
    "print(customerA.price)"
   ]
  },
  {
   "cell_type": "code",
   "execution_count": null,
   "metadata": {},
   "outputs": [],
   "source": [
    "\n",
    "if \"apple\" in price:\n",
    "    print(price[\"apple\"])\n",
    "else:\n",
    "    print(-1) # we don't carry that item"
   ]
  }
 ],
 "metadata": {
  "kernelspec": {
   "display_name": "Python 3",
   "language": "python",
   "name": "python3"
  },
  "language_info": {
   "codemirror_mode": {
    "name": "ipython",
    "version": 3
   },
   "file_extension": ".py",
   "mimetype": "text/x-python",
   "name": "python",
   "nbconvert_exporter": "python",
   "pygments_lexer": "ipython3",
   "version": "3.7.7"
  }
 },
 "nbformat": 4,
 "nbformat_minor": 4
}
