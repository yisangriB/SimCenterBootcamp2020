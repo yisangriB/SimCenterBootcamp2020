{
 "cells": [
  {
   "cell_type": "markdown",
   "metadata": {},
   "source": [
    "# Exercise 4: File handling"
   ]
  },
  {
   "cell_type": "code",
   "execution_count": 1,
   "metadata": {},
   "outputs": [],
   "source": [
    "import numpy as np\n",
    "import matplotlib.pyplot as plt"
   ]
  },
  {
   "cell_type": "markdown",
   "metadata": {},
   "source": [
    "## Problem 1: \n",
    "\n",
    "Open and read the file 'ExampleData.txt'.  This file is a plain text file providing data as comma-separated list.  An example of this file looks like this:\n",
    "~~~\n",
    "1.0,0.0,\n",
    "1.0043021179718516,0.06331229237152888,\n",
    "1.0045749747914792,0.12716436093274708,\n",
    "1.0007678438038003,0.1912984977208162,\n",
    "...\n",
    "~~~\n",
    "Each line represents the X and Y coordinate on one point on a polygon.\n",
    "\n",
    "**Your tasks**: \n",
    "1. read this file making sure to implement proper exception handling.\n",
    "2. plot the polygon.  Make sure to preserve correct proportions and angles by setting equal axis scaling."
   ]
  },
  {
   "cell_type": "code",
   "execution_count": 16,
   "metadata": {},
   "outputs": [
    {
     "data": {
      "text/plain": [
       "Text(0, 0.5, 'y')"
      ]
     },
     "execution_count": 16,
     "metadata": {},
     "output_type": "execute_result"
    },
    {
     "data": {
      "image/png": "[encoded data removed]",
      "text/plain": [
       "<Figure size 432x288 with 1 Axes>"
      ]
     },
     "metadata": {
      "needs_background": "light"
     },
     "output_type": "display_data"
    }
   ],
   "source": [
    "import numpy as np\n",
    "import matplotlib.pyplot as plt\n",
    "\n",
    "try:\n",
    "    f = open('ExampleData.txt','r')\n",
    "except IOError:\n",
    "    print('CANNOT OPEN THE FILE')\n",
    "\n",
    "x=[];\n",
    "y=[];\n",
    "for line in f:\n",
    "    string_list = line.split(',')\n",
    "    x.append(float(string_list[0]))\n",
    "    y.append(float(string_list[1]))\n",
    "    \n",
    "plt.plot(x,y,'-b')\n",
    "plt.axis(\"equal\")\n",
    "plt.xlabel('x')\n",
    "plt.ylabel('y')\n",
    "#plt.plot(data[:,1],data[:,2])\n"
   ]
  },
  {
   "cell_type": "code",
   "execution_count": null,
   "metadata": {},
   "outputs": [],
   "source": []
  },
  {
   "cell_type": "markdown",
   "metadata": {},
   "source": [
    "## Problem 2: \n",
    "\n",
    "**Your tasks**: \n",
    "1. Using the **pandas** library, read 'SheetWind' from 'ExcelDemo.xlsx' and provide the mean, standard deviation, max, and min values for the columns 'vx1','vy1','vx2','vy2','vx3','vy3'\n",
    "2. plot 'vy2' against 'vx2'"
   ]
  },
  {
   "cell_type": "code",
   "execution_count": 20,
   "metadata": {},
   "outputs": [],
   "source": [
    "import pandas as pd\n",
    "\n",
    "f=pd.ExcelFile('ExcelDemo.xlsx')\n",
    "df=pd.read_excel(f,'SheetWind')\n"
   ]
  },
  {
   "cell_type": "code",
   "execution_count": 24,
   "metadata": {},
   "outputs": [
    {
     "name": "stdout",
     "output_type": "stream",
     "text": [
      " mean:0.0019980019979528208\n",
      " std:7.207776630836765\n",
      " max:11.58794464387697\n",
      " min:-11.587944643877078\n",
      "\n",
      "\n",
      " mean:0.009990009989864759\n",
      " std:7.2144197443489455\n",
      " max:11.587944643877151\n",
      " min:-11.58794464387704\n",
      "\n",
      "\n",
      " mean:0.0029970029969466363\n",
      " std:6.039248172620569\n",
      " max:10.930997795800753\n",
      " min:-10.93099779580091\n",
      "\n",
      "\n",
      " mean:0.007992007991907678\n",
      " std:6.043790917568252\n",
      " max:10.93099779580083\n",
      " min:-10.930997795801009\n",
      "\n",
      "\n",
      " mean:0.30611428067162283\n",
      " std:8.503946375293555\n",
      " max:11.793661171322354\n",
      " min:-13.0\n",
      "\n",
      "\n",
      " mean:1.7251778871042433e-13\n",
      " std:8.512852311716772\n",
      " max:12.6612770815181\n",
      " min:-12.661277081517355\n",
      "\n",
      "\n"
     ]
    }
   ],
   "source": [
    "df\n",
    "targets=['vx1','vy1','vx2','vy2','vx3','vy3']\n",
    "\n",
    "for target in targets:\n",
    "    col = df[target];\n",
    "    print(' mean:{}\\n std:{}\\n max:{}\\n min:{}\\n\\n'.format(np.mean(col),np.std(col),np.max(col),np.min(col)))"
   ]
  },
  {
   "cell_type": "markdown",
   "metadata": {},
   "source": [
    "## Problem 3: \n",
    "\n",
    "**Your tasks**: \n",
    "1. Read 'ExampleData.txt' line by line and create a DataFrame object with the same content as that source file.  Make sure to add labels 'X' and 'Y' to th efirst and second column, respectively.\n",
    "2. write that information to an excel file named 'Problem3.xlsx'\n",
    "3. open the 'Problem3.xlsx' file in Excel and plot X versus Y. Verify that the file was created correctly by comparing the chart in Excel with your answer to Problem 1."
   ]
  },
  {
   "cell_type": "code",
   "execution_count": 28,
   "metadata": {},
   "outputs": [
    {
     "name": "stdout",
     "output_type": "stream",
     "text": [
      "            X             Y\n",
      "0    1.000000  0.000000e+00\n",
      "1    1.004302  6.331229e-02\n",
      "2    1.004575  1.271644e-01\n",
      "3    1.000768  1.912985e-01\n",
      "4    0.992847  2.554528e-01\n",
      "..        ...           ...\n",
      "495  3.986569 -1.025717e+00\n",
      "496  4.049389 -7.740476e-01\n",
      "497  4.096312 -5.185327e-01\n",
      "498  4.127104 -2.601771e-01\n",
      "499  4.141593 -5.071988e-15\n",
      "\n",
      "[500 rows x 2 columns]\n"
     ]
    }
   ],
   "source": [
    "try:\n",
    "    f=open('ExampleData.txt','r')\n",
    "except IOError:\n",
    "    print('Cannot open the file.')\n",
    "    raise\n",
    "    \n",
    "x=[]\n",
    "y=[]\n",
    "x=[];\n",
    "y=[];\n",
    "for line in f:\n",
    "    string_list = line.split(',')\n",
    "    x.append(float(string_list[0]))\n",
    "    y.append(float(string_list[1]))\n",
    "    \n",
    "    \n",
    "    \n",
    "my_df = pd.DataFrame({\"X\":x,\"Y\":y})\n",
    "print(my_df)\n",
    "    "
   ]
  },
  {
   "cell_type": "code",
   "execution_count": 30,
   "metadata": {},
   "outputs": [],
   "source": [
    "my_df.to_excel('Problem3.xlsx','mySheet')"
   ]
  },
  {
   "cell_type": "code",
   "execution_count": null,
   "metadata": {},
   "outputs": [],
   "source": []
  },
  {
   "cell_type": "code",
   "execution_count": null,
   "metadata": {},
   "outputs": [],
   "source": []
  }
 ],
 "metadata": {
  "kernelspec": {
   "display_name": "Python 3",
   "language": "python",
   "name": "python3"
  },
  "language_info": {
   "codemirror_mode": {
    "name": "ipython",
    "version": 3
   },
   "file_extension": ".py",
   "mimetype": "text/x-python",
   "name": "python",
   "nbconvert_exporter": "python",
   "pygments_lexer": "ipython3",
   "version": "3.7.7"
  }
 },
 "nbformat": 4,
 "nbformat_minor": 4
}
